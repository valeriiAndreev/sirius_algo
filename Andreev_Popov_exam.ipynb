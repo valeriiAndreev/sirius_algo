{
 "cells": [
  {
   "cell_type": "markdown",
   "id": "b094f0f5-b992-4b0c-ba0f-977f6390e50f",
   "metadata": {},
   "source": [
    "<h2>Задача об упаковке в контейнеры</h2>\n",
    "Задача заключается в упаковке объектов предопределённой формы в конечное число контейнеров предопределённой формы таким способом, чтобы число использованных контейнеров было наименьшим или количество или объём объектов (которые упаковывают) были наибольшими."
   ]
  },
  {
   "cell_type": "markdown",
   "id": "80fdd807-e2f0-4aa3-b4ed-1de3eb2fb993",
   "metadata": {},
   "source": [
    "<h2>Постановка задачи</h2>\n",
    "Пусть дано множество контейнеров размера $V$ и множество $n$ предметов размеров $a_1,\\dots,a_n$. Надо найти целое число контейнеров $B$ и разбиение множества {$1,\\dots,n$} на $B$ подмножеств $S_1 \\cup \\dots \\cup S_B$ таких, что $\\sum_{i \\in S_k} a_i \\leq V$ для всех $k=1,\\dots,B$. Решение называется оптимальным, если $B$ минимально. "
   ]
  },
  {
   "cell_type": "code",
   "execution_count": 18,
   "id": "1253a3cb-053a-4cea-8d59-1e8ce54f7887",
   "metadata": {},
   "outputs": [],
   "source": [
    "a = [1,2,3,4,5]\n",
    "V=10"
   ]
  },
  {
   "cell_type": "code",
   "execution_count": 35,
   "id": "d93659e5-777b-4aa9-adab-86d498793eaf",
   "metadata": {},
   "outputs": [],
   "source": [
    "class Container:\n",
    "    def __init__(self,V):\n",
    "        self.V = V\n",
    "        self.cont = []\n",
    "    def free(self): return self.V - sum(self.cont)"
   ]
  },
  {
   "cell_type": "markdown",
   "id": "e936b6aa-d925-46f0-93ba-9c08ef7068a0",
   "metadata": {},
   "source": [
    "<h2>Решение</h2>\n",
    "Предметы упорядочивают по убыванию размеров ..."
   ]
  },
  {
   "cell_type": "code",
   "execution_count": 20,
   "id": "0b3da6c6-325f-4f30-95bc-01c090e2e94a",
   "metadata": {},
   "outputs": [
    {
     "data": {
      "text/plain": [
       "[5, 4, 3, 2, 1]"
      ]
     },
     "execution_count": 20,
     "metadata": {},
     "output_type": "execute_result"
    }
   ],
   "source": [
    "a_sorted = sorted(a,reverse=True)\n",
    "a_sorted"
   ]
  },
  {
   "cell_type": "markdown",
   "id": "9f159f38-649f-40cc-8023-fdd79c673262",
   "metadata": {},
   "source": [
    "...и последовательно пакуют либо в контейнер, в котором после упаковки останется наименьший свободный объём (BFD), либо в первый контейнер куда он помещается (FFD)."
   ]
  },
  {
   "cell_type": "markdown",
   "id": "febc02d8-0a1d-497f-a823-82958254a6f7",
   "metadata": {},
   "source": [
    "<h4>1) Best Fit Decreasing — BFD (Наилучший подходящий по убыванию)</h4>"
   ]
  },
  {
   "cell_type": "code",
   "execution_count": 52,
   "id": "86078089-1352-4388-bae7-22c79690104d",
   "metadata": {},
   "outputs": [],
   "source": [
    "def BFD(a,V):\n",
    "    conts = []             # Все контейнеры, уже упорядочены на входе\n",
    "    conts.append(Container(V)) # Добавляем один пустой контейнер\n",
    "\n",
    "    for i in range(0,len(a)):\n",
    "        f=V+1\n",
    "        n=-1\n",
    "        for j in range (0, len(conts)):\n",
    "            if (conts[j].free() - a[i] < f) and (conts[j].free() - a[i] >=0):\n",
    "                f= conts[j].free() - a[i]\n",
    "                n=j\n",
    "        if (n == -1):\n",
    "            conts.append(Container(V))\n",
    "        conts[n].cont.append(a[i])\n",
    "\n",
    "    return conts"
   ]
  },
  {
   "cell_type": "code",
   "execution_count": 53,
   "id": "f114ba79-a287-4dc5-a37f-67bf9f1d8f75",
   "metadata": {},
   "outputs": [],
   "source": [
    "c=BFD(a_sorted,V)"
   ]
  },
  {
   "cell_type": "code",
   "execution_count": 54,
   "id": "68531740-ac25-42bd-9f50-f8abc6d30609",
   "metadata": {},
   "outputs": [],
   "source": [
    "def pr_conts(c):\n",
    "    n=len(c)\n",
    "    print ('Количество контейнеров: ', n)\n",
    "    for i in range(n):\n",
    "        print (i+1, ': ',c[i].cont)"
   ]
  },
  {
   "cell_type": "code",
   "execution_count": 55,
   "id": "528e3344-42c0-40dd-ab0f-702ce2b69657",
   "metadata": {},
   "outputs": [
    {
     "name": "stdout",
     "output_type": "stream",
     "text": [
      "Количество контейнеров:  2\n",
      "1 :  [5, 4, 1]\n",
      "2 :  [3, 2]\n"
     ]
    }
   ],
   "source": [
    "pr_conts(c)"
   ]
  },
  {
   "cell_type": "markdown",
   "id": "95c6342b-d664-48ba-9a8b-27f6d4ec6ad6",
   "metadata": {},
   "source": [
    "<h4>2) First Fit Decreasing — FFD (Первый подходящий по убыванию)</h4>"
   ]
  },
  {
   "cell_type": "code",
   "execution_count": 57,
   "id": "9b0c49b4-a624-46b4-875f-5e32176217e4",
   "metadata": {},
   "outputs": [],
   "source": [
    "def FFD(a,V):\n",
    "    conts = []             # Все контейнеры, уже упорядочены на входе\n",
    "    conts.append(Container(V)) # Добавляем один пустой контейнер\n",
    "\n",
    "    for i in range(0,len(a)):\n",
    "        added = False\n",
    "        for j in range (0, len(conts)):\n",
    "            if (conts[j].free() >= a[i]):\n",
    "                conts[j].cont.append(a[i])\n",
    "                added = True\n",
    "                break\n",
    "        if added: continue\n",
    "        conts.append(Container(V))\n",
    "        conts[-1].cont.append(a[i])\n",
    "\n",
    "    return conts"
   ]
  },
  {
   "cell_type": "code",
   "execution_count": 58,
   "id": "7a66f1ad-9ace-411f-94ad-47c5f22549cd",
   "metadata": {},
   "outputs": [],
   "source": [
    "c=FFD(a_sorted,V)"
   ]
  },
  {
   "cell_type": "code",
   "execution_count": 59,
   "id": "d90c5c76-a232-4dd8-80d8-3d2c122646d7",
   "metadata": {},
   "outputs": [
    {
     "name": "stdout",
     "output_type": "stream",
     "text": [
      "Количество контейнеров:  2\n",
      "1 :  [5, 4, 1]\n",
      "2 :  [3, 2]\n"
     ]
    }
   ],
   "source": [
    "pr_conts(c)"
   ]
  },
  {
   "cell_type": "code",
   "execution_count": null,
   "id": "60fef4d6-fa28-40f9-aa93-760c8d6f4c12",
   "metadata": {},
   "outputs": [],
   "source": []
  }
 ],
 "metadata": {
  "kernelspec": {
   "display_name": "Python 3 (ipykernel)",
   "language": "python",
   "name": "python3"
  },
  "language_info": {
   "codemirror_mode": {
    "name": "ipython",
    "version": 3
   },
   "file_extension": ".py",
   "mimetype": "text/x-python",
   "name": "python",
   "nbconvert_exporter": "python",
   "pygments_lexer": "ipython3",
   "version": "3.10.12"
  }
 },
 "nbformat": 4,
 "nbformat_minor": 5
}
