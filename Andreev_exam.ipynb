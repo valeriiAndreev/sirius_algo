{
 "cells": [
  {
   "cell_type": "markdown",
   "id": "a540f17b-e5a7-42a3-bf45-6624ae08fa86",
   "metadata": {},
   "source": [
    "Вариант 3"
   ]
  },
  {
   "cell_type": "markdown",
   "id": "071eca6c-322f-4792-8a74-1b7a4d5b8eaa",
   "metadata": {},
   "source": [
    "Задача 1"
   ]
  },
  {
   "cell_type": "code",
   "execution_count": 4,
   "id": "02e318e6-d444-4081-89bb-669c87ffc769",
   "metadata": {},
   "outputs": [],
   "source": [
    "arr = [2,3,-1,8,4]\n",
    "def middle(arr):\n",
    "    n = len(arr)\n",
    "    for i in range(0,n):\n",
    "        s_left = 0\n",
    "        s_right = 0\n",
    "        for j in range(0,i):\n",
    "            s_left += arr[j]\n",
    "        for j in range(i+1,n):\n",
    "            s_right += arr[j]\n",
    "        if (s_left == s_right): return i\n",
    "    return -1"
   ]
  },
  {
   "cell_type": "code",
   "execution_count": 5,
   "id": "fb1ecb3d-9535-4f4b-82c4-fa4ece97cfc3",
   "metadata": {},
   "outputs": [
    {
     "data": {
      "text/plain": [
       "3"
      ]
     },
     "execution_count": 5,
     "metadata": {},
     "output_type": "execute_result"
    }
   ],
   "source": [
    "middle(arr)"
   ]
  },
  {
   "cell_type": "code",
   "execution_count": 6,
   "id": "558335b7-5df8-430e-af26-b27aa0d3c2d5",
   "metadata": {},
   "outputs": [
    {
     "data": {
      "text/plain": [
       "-1"
      ]
     },
     "execution_count": 6,
     "metadata": {},
     "output_type": "execute_result"
    }
   ],
   "source": [
    "middle([2,5])"
   ]
  },
  {
   "cell_type": "markdown",
   "id": "0ef6a588-1f4e-443e-9d45-5708eb0596ce",
   "metadata": {},
   "source": [
    "Задача 2\n",
    "1. O(n); omega(1); theta(n)\n",
    "2. O(1); omega(1); theta(1)\n",
    "3. O(n-1); omega(n-1); theta(n-1)\n",
    "4. O(1); omega(1); theta(1)\n",
    "\n",
    "   Объяснить могу, но времени уже нет (("
   ]
  },
  {
   "cell_type": "markdown",
   "id": "fbdcb57a-bbcd-4f10-91be-13a5406aad9a",
   "metadata": {},
   "source": [
    "Задача 3"
   ]
  },
  {
   "cell_type": "code",
   "execution_count": 7,
   "id": "ebcda334-91b3-4310-91ca-84acbf1f6ad8",
   "metadata": {},
   "outputs": [],
   "source": [
    "a=[1,2,3,4,5,6]\n",
    "x=3"
   ]
  },
  {
   "cell_type": "code",
   "execution_count": 14,
   "id": "1bad708c-7e2a-4f8f-b2c5-40d5b6fb1d07",
   "metadata": {},
   "outputs": [],
   "source": [
    "def dist(a,x):\n",
    "    n=len(a)\n",
    "    for i in range(0,n-1):\n",
    "        for j in range(i+1,n):\n",
    "            if (a[i] - a[j] == x): return (i,j) #Если строго по условию задачи, то надо return(i+1,j+1) т.к. в условии нумерация с 1\n",
    "            if (a[i] - a[j] == -x): return (j,i) # то же\n",
    "    return 'No'"
   ]
  },
  {
   "cell_type": "code",
   "execution_count": 9,
   "id": "adab024a-190e-41e8-8f84-1faac2a44ec0",
   "metadata": {},
   "outputs": [
    {
     "data": {
      "text/plain": [
       "(3, 0)"
      ]
     },
     "execution_count": 9,
     "metadata": {},
     "output_type": "execute_result"
    }
   ],
   "source": [
    "dist(a,x)"
   ]
  },
  {
   "cell_type": "code",
   "execution_count": 10,
   "id": "73129e78-db86-407a-a7a5-6be73444c3f3",
   "metadata": {},
   "outputs": [
    {
     "data": {
      "text/plain": [
       "(0, 3)"
      ]
     },
     "execution_count": 10,
     "metadata": {},
     "output_type": "execute_result"
    }
   ],
   "source": [
    "dist (a,-3)"
   ]
  },
  {
   "cell_type": "code",
   "execution_count": 15,
   "id": "b21d2725-956d-40b9-a7c2-95f21aa50c82",
   "metadata": {},
   "outputs": [
    {
     "data": {
      "text/plain": [
       "'No'"
      ]
     },
     "execution_count": 15,
     "metadata": {},
     "output_type": "execute_result"
    }
   ],
   "source": [
    "dist(a,6)"
   ]
  },
  {
   "cell_type": "code",
   "execution_count": null,
   "id": "eab69877-e9ca-45f8-ac2e-543924a2cce4",
   "metadata": {},
   "outputs": [],
   "source": []
  }
 ],
 "metadata": {
  "kernelspec": {
   "display_name": "Python 3 (ipykernel)",
   "language": "python",
   "name": "python3"
  },
  "language_info": {
   "codemirror_mode": {
    "name": "ipython",
    "version": 3
   },
   "file_extension": ".py",
   "mimetype": "text/x-python",
   "name": "python",
   "nbconvert_exporter": "python",
   "pygments_lexer": "ipython3",
   "version": "3.10.12"
  }
 },
 "nbformat": 4,
 "nbformat_minor": 5
}
